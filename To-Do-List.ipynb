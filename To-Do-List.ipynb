{
 "cells": [
  {
   "cell_type": "code",
   "execution_count": null,
   "id": "6ce8d2d1",
   "metadata": {},
   "outputs": [],
   "source": [
    "tasks = []\n",
    "\n",
    "def add_task():\n",
    "    task = input(\"Enter a new task: \")\n",
    "    tasks.append(task)\n",
    "    print(\"Task added successfully\")\n",
    "\n",
    "def remove_task():\n",
    "    task = input(\"Enter the task to remove: \")\n",
    "    if task in tasks:\n",
    "        tasks.remove(task)\n",
    "        print(\"Task removed successfully\")\n",
    "    else:\n",
    "        print(\"Task not found\")\n",
    "\n",
    "def view_tasks():\n",
    "    if tasks:\n",
    "        print(\"Your tasks:\")\n",
    "        for index, task in enumerate(tasks):\n",
    "            print(f\"{index + 1}. {task}\")\n",
    "    else:\n",
    "        print(\"No tasks found\")\n",
    "\n",
    "def main():\n",
    "    while True:\n",
    "        print(\"\\nMenu:\")\n",
    "        print(\"1. Add task\")\n",
    "        print(\"2. Remove task\")\n",
    "        print(\"3. View tasks\")\n",
    "        print(\"4. Quit\")\n",
    "\n",
    "        choice = input(\"Enter your choice: \")\n",
    "\n",
    "        if choice == \"1\":\n",
    "            add_task()\n",
    "        elif choice == \"2\":\n",
    "            remove_task()\n",
    "        elif choice == \"3\":\n",
    "            view_tasks()\n",
    "        elif choice == \"4\":\n",
    "            break\n",
    "        else:\n",
    "            print(\"Invalid choice\")\n",
    "\n",
    "if __name__ == \"__main__\":\n",
    "    main()\n"
   ]
  },
  {
   "cell_type": "code",
   "execution_count": null,
   "id": "6f516afb",
   "metadata": {},
   "outputs": [],
   "source": []
  }
 ],
 "metadata": {
  "kernelspec": {
   "display_name": "Python 3 (ipykernel)",
   "language": "python",
   "name": "python3"
  },
  "language_info": {
   "codemirror_mode": {
    "name": "ipython",
    "version": 3
   },
   "file_extension": ".py",
   "mimetype": "text/x-python",
   "name": "python",
   "nbconvert_exporter": "python",
   "pygments_lexer": "ipython3",
   "version": "3.9.13"
  }
 },
 "nbformat": 4,
 "nbformat_minor": 5
}
